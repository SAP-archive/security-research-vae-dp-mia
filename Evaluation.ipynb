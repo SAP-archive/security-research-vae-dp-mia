{
 "cells": [
  {
   "cell_type": "code",
   "execution_count": 50,
   "metadata": {},
   "outputs": [],
   "source": [
    "import json\n",
    "import numpy as np\n",
    "import matplotlib.pyplot as plt\n",
    "from util.metrics import calc_mc_accuracy, calc_mc_set_accuracy"
   ]
  },
  {
   "cell_type": "markdown",
   "metadata": {},
   "source": [
    "## Load experiment data"
   ]
  },
  {
   "cell_type": "code",
   "execution_count": 64,
   "metadata": {},
   "outputs": [
    {
     "name": "stdout",
     "output_type": "stream",
     "text": [
      "Loaded experiment log with id 1131\n"
     ]
    }
   ],
   "source": [
    "# e_name = 'mnist_gan2_mcc_experiment_2574'\n",
    "# e_name = 'experiment_8944'\n",
    "e_name = 'test'\n",
    "\n",
    "# Import results\n",
    "# with open('experiments/experiment_' + str(eid) + '.json') as f:\n",
    "with open('experiments/' + str(e_name) + '.json') as f:\n",
    "    log = json.loads(f.read())\n",
    "\n",
    "print('Loaded experiment log with id ' + str(log['id']))\n",
    "# print('Performed attacks: {0}'.format(log['attacks']))\n",
    "# print('Repetitions: {0}'.format(len(log[log['attacks'][0]]['results'])))"
   ]
  },
  {
   "cell_type": "code",
   "execution_count": 69,
   "metadata": {},
   "outputs": [],
   "source": [
    "attacks = ['legacy_pca_mc_category_attack_1000', 'legacy_pca_mc_category_attack_10000']"
   ]
  },
  {
   "cell_type": "code",
   "execution_count": 65,
   "metadata": {},
   "outputs": [],
   "source": [
    "attacks = log['attacks']"
   ]
  },
  {
   "cell_type": "code",
   "execution_count": 70,
   "metadata": {},
   "outputs": [],
   "source": [
    "# Collect and aggregate result values\n",
    "\n",
    "values = dict()\n",
    "\n",
    "for attack in attacks: #log['attacks']:\n",
    "    \n",
    "    values[attack] = dict()\n",
    "    \n",
    "    results = log[attack]['results']\n",
    "    # print(results)\n",
    "    \n",
    "    config_name = log[attack]['base_config']\n",
    "    # config_name = 'pca_mc_category_attack'\n",
    "    \n",
    "    with open('configs/' + str(config_name) + '.json') as f:\n",
    "        attack_config = json.loads(f.read())\n",
    "    with open('configs/' + str(log['model']) + '.json') as f:\n",
    "        model_config = json.loads(f.read())\n",
    "    \n",
    "    # print(attack_config)\n",
    "    # print(model_config)\n",
    "    # print(log[attack]['attack_type'])\n",
    "    \n",
    "    if 'mc_attack' in log[attack]['attack_type'] or 'mc_category_attack' in log[attack]['attack_type']:\n",
    "    \n",
    "        # Heuristics\n",
    "        heuristics = results[0].keys()\n",
    "        \n",
    "        for heuristic in heuristics:\n",
    "            \n",
    "            values[attack][heuristic] = dict()\n",
    "            values[attack][heuristic]['single'] = list()\n",
    "            values[attack][heuristic]['set'] = list()\n",
    "            \n",
    "            # Single MI Accuracy\n",
    "            single_mi_acc = calc_mc_accuracy(heuristic, 'mc_attack_log_acc', results)\n",
    "            values[attack][heuristic]['single'].append(single_mi_acc)\n",
    "            # print(heuristic, single_mi_acc)\n",
    "            \n",
    "            # Set MI Accuracy\n",
    "            set_mi_acc = calc_mc_set_accuracy(heuristic, 'mc_attack_log_acc', results)\n",
    "            values[attack][heuristic]['set'].append(set_mi_acc)\n",
    "            # print(set_mi_acc)\n",
    "    \n",
    "    elif log[attack]['attack_type'] == 'reconstruction_attack':\n",
    "        values[attack]['reconstruction_accuracy_single'] = np.mean([x['reconstruction_accuracy'] for x in results])\n",
    "        values[attack]['reconstruction_accuracy_set'] = (sum([x['successful_set_attack'] for x in results]) / len(results))"
   ]
  },
  {
   "cell_type": "code",
   "execution_count": 71,
   "metadata": {},
   "outputs": [
    {
     "data": {
      "text/plain": [
       "{'legacy_pca_mc_category_attack_1000': {'median': {'single': [0.53],\n",
       "   'set': [0.8]},\n",
       "  '0.01': {'single': [0.5200000000000001], 'set': [0.6]},\n",
       "  '0.1': {'single': [0.496], 'set': [0.2]},\n",
       "  '1': {'single': [0.534], 'set': [0.7]}},\n",
       " 'legacy_pca_mc_category_attack_10000': {'median': {'single': [0.53],\n",
       "   'set': [0.8]},\n",
       "  '0.01': {'single': [0.48600000000000004], 'set': [0.4]},\n",
       "  '0.1': {'single': [0.5199999999999999], 'set': [0.6]},\n",
       "  '1': {'single': [0.534], 'set': [0.8]}}}"
      ]
     },
     "execution_count": 71,
     "metadata": {},
     "output_type": "execute_result"
    }
   ],
   "source": [
    "values"
   ]
  },
  {
   "cell_type": "markdown",
   "metadata": {},
   "source": [
    "## Plots for Monte Carlo Attacks"
   ]
  },
  {
   "cell_type": "markdown",
   "metadata": {},
   "source": [
    "### Create Plot for different Sample Sizes"
   ]
  },
  {
   "cell_type": "code",
   "execution_count": 73,
   "metadata": {},
   "outputs": [
    {
     "data": {
      "image/png": "[encoded data removed]",
      "text/plain": [
       "<Figure size 432x288 with 1 Axes>"
      ]
     },
     "metadata": {
      "needs_background": "light"
     },
     "output_type": "display_data"
    }
   ],
   "source": [
    "# Show single membership inference results\n",
    "\n",
    "import matplotlib.pyplot as plt\n",
    "import numpy as np\n",
    "\n",
    "heuristics = results[0].keys()\n",
    "attacks = values.keys()\n",
    "# xlabels = ['10\\u00b3', '10\\u2074', '10\\u2075', '10\\u2076']\n",
    "xlabels = ['10\\u00b3', '10\\u2074']\n",
    "plt.xticks(range(len(xlabels)), xlabels)\n",
    "#plt.figure(figsize=(10, 6))\n",
    "\n",
    "for heuristic in heuristics:\n",
    "    \n",
    "    # Aggregate results\n",
    "    mean_single_accs = [np.array(values[attack][heuristic]['single']).mean() for attack in attacks]\n",
    "    \n",
    "    if heuristic != 'median':\n",
    "        label = '{:3g}% percentile'.format(float(heuristic) * 10)\n",
    "    else:\n",
    "        label = 'Median Heuristic'\n",
    "    \n",
    "    plt.plot(range(len(xlabels)), mean_single_accs, marker='o', label=label)\n",
    "    \n",
    "plt.xlabel('Sample Size')\n",
    "plt.ylabel('Single MI Accuracy')\n",
    "plt.legend(loc='upper right', bbox_to_anchor=(1.01, 1.2), ncol=2);\n",
    "plt.tight_layout()\n",
    "#plt.savefig('figures/mnist_gan_mc_category_single_accs.png')"
   ]
  },
  {
   "cell_type": "code",
   "execution_count": 63,
   "metadata": {},
   "outputs": [
    {
     "data": {
      "image/png": "[encoded data removed]",
      "text/plain": [
       "<Figure size 432x288 with 1 Axes>"
      ]
     },
     "metadata": {
      "needs_background": "light"
     },
     "output_type": "display_data"
    }
   ],
   "source": [
    "# Show set membership inference results\n",
    "\n",
    "heuristics = results[0].keys()\n",
    "attacks = values.keys()\n",
    "x = ['10\\u00b3', '10\\u2074', '10\\u2075', '10\\u2076']\n",
    "#print(heuristics)\n",
    "#print(attacks)\n",
    "\n",
    "#plt.xlim(100, 1000000)\n",
    "plt.xticks(range(len(x)), x)\n",
    "plt.xlabel('Sample Size')\n",
    "plt.ylabel('Set MI Accuracy')\n",
    "\n",
    "for heuristic in heuristics:\n",
    "    \n",
    "    # Aggregate results\n",
    "    mean_set_accs = [np.array(values[attack][heuristic]['set']).mean() for attack in attacks]\n",
    "    \n",
    "    if heuristic != 'median':\n",
    "        label = '{:3g}% percentile'.format(float(heuristic) * 10)\n",
    "    else:\n",
    "        label = 'Median Heuristic'\n",
    "    \n",
    "    plt.plot(range(len(x)), mean_set_accs, marker='o', label=label)\n",
    "\n",
    "# plt.figure(figsize=(10, 6))\n",
    "plt.legend(loc='upper right', bbox_to_anchor=(1.01, 1.2), ncol=2);\n",
    "plt.tight_layout()\n",
    "#plt.savefig('figures/mnist_gan_mc_category_set_accs.png')"
   ]
  },
  {
   "cell_type": "markdown",
   "metadata": {},
   "source": [
    "### Create Boxplot for different Metrics (over multiple Runs)"
   ]
  },
  {
   "cell_type": "code",
   "execution_count": 27,
   "metadata": {},
   "outputs": [
    {
     "data": {
      "image/png": "[encoded data removed]",
      "text/plain": [
       "<Figure size 432x288 with 1 Axes>"
      ]
     },
     "metadata": {
      "needs_background": "light"
     },
     "output_type": "display_data"
    }
   ],
   "source": [
    "# Show single membership inference results\n",
    "\n",
    "import matplotlib.pyplot as plt\n",
    "import numpy as np\n",
    "\n",
    "heuristics = results[0].keys()\n",
    "attacks = values.keys()\n",
    "#xlabels = ['10\\u00b3', '10\\u2074', '10\\u2075', '10\\u2076']\n",
    "#xlabels = [1000, 10000, 100000, 1000000]\n",
    "\n",
    "\n",
    "x = list()\n",
    "\n",
    "for heuristic in heuristics:\n",
    "    x.append([e[heuristic]['mc_attack_log_acc'] for e in log['pca_mc_category_attack_1000']['results']])\n",
    "\n",
    "\n",
    "plt.boxplot(x)\n",
    "plt.ylabel('Accuracy')\n",
    "plt.xlabel('Metric')\n",
    "plt.xticks(range(1, len(heuristics) + 1), heuristics)\n",
    "# plt.show()\n",
    "# plt.savefig('test.png')"
   ]
  },
  {
   "cell_type": "code",
   "execution_count": 66,
   "metadata": {},
   "outputs": [
    {
     "ename": "KeyError",
     "evalue": "'results'",
     "output_type": "error",
     "traceback": [
      "\u001b[1;31m---------------------------------------------------------------------------\u001b[0m",
      "\u001b[1;31mKeyError\u001b[0m                                  Traceback (most recent call last)",
      "\u001b[1;32m<ipython-input-66-37d2f63e2087>\u001b[0m in \u001b[0;36m<module>\u001b[1;34m\u001b[0m\n\u001b[0;32m      4\u001b[0m \u001b[1;32mimport\u001b[0m \u001b[0mnumpy\u001b[0m \u001b[1;32mas\u001b[0m \u001b[0mnp\u001b[0m\u001b[1;33m\u001b[0m\u001b[1;33m\u001b[0m\u001b[0m\n\u001b[0;32m      5\u001b[0m \u001b[1;33m\u001b[0m\u001b[0m\n\u001b[1;32m----> 6\u001b[1;33m \u001b[0mheuristics\u001b[0m \u001b[1;33m=\u001b[0m \u001b[0mlog\u001b[0m\u001b[1;33m[\u001b[0m\u001b[1;34m'results'\u001b[0m\u001b[1;33m]\u001b[0m\u001b[1;33m[\u001b[0m\u001b[1;36m0\u001b[0m\u001b[1;33m]\u001b[0m\u001b[1;33m.\u001b[0m\u001b[0mkeys\u001b[0m\u001b[1;33m(\u001b[0m\u001b[1;33m)\u001b[0m\u001b[1;33m\u001b[0m\u001b[1;33m\u001b[0m\u001b[0m\n\u001b[0m\u001b[0;32m      7\u001b[0m \u001b[0mx\u001b[0m \u001b[1;33m=\u001b[0m \u001b[0mlist\u001b[0m\u001b[1;33m(\u001b[0m\u001b[1;33m)\u001b[0m\u001b[1;33m\u001b[0m\u001b[1;33m\u001b[0m\u001b[0m\n\u001b[0;32m      8\u001b[0m \u001b[1;33m\u001b[0m\u001b[0m\n",
      "\u001b[1;31mKeyError\u001b[0m: 'results'"
     ]
    }
   ],
   "source": [
    "# Show single membership inference results\n",
    "\n",
    "import matplotlib.pyplot as plt\n",
    "import numpy as np\n",
    "\n",
    "heuristics = log['results'][0].keys()\n",
    "x = list()\n",
    "\n",
    "for heuristic in heuristics:\n",
    "    x.append([e[heuristic]['mc_attack_log_acc'] for e in log['results']])\n",
    "\n",
    "plt.figure(figsize=(10, 6))\n",
    "plt.boxplot(x)\n",
    "plt.ylabel('Accuracy')\n",
    "plt.xlabel('Metric')\n",
    "plt.xticks(range(1, len(heuristics) + 1), heuristics)\n",
    "plt.show()\n",
    "\n",
    "# plt.savefig('test.png')"
   ]
  },
  {
   "cell_type": "markdown",
   "metadata": {},
   "source": [
    "### Barplot for Set MI (over multiple Runs)"
   ]
  },
  {
   "cell_type": "code",
   "execution_count": 49,
   "metadata": {},
   "outputs": [
    {
     "data": {
      "image/png": "[encoded data removed]",
      "text/plain": [
       "<Figure size 720x432 with 1 Axes>"
      ]
     },
     "metadata": {
      "needs_background": "light"
     },
     "output_type": "display_data"
    }
   ],
   "source": [
    "import matplotlib.pyplot as plt\n",
    "import numpy as np\n",
    "\n",
    "heuristics = log['results'][0].keys()\n",
    "x = list()\n",
    "\n",
    "for heuristic in heuristics:\n",
    "    x.append(sum([e[heuristic]['successful_set_attack_log'] for e in log['results']]) / len(log['results']))\n",
    "\n",
    "plt.figure(figsize=(10, 6))\n",
    "plt.bar(height=x, x=heuristics)\n",
    "plt.ylabel('Set Accuracy')\n",
    "plt.xlabel('Metric')\n",
    "plt.show()"
   ]
  },
  {
   "cell_type": "markdown",
   "metadata": {},
   "source": [
    "## Plots for Reconstruction Attack"
   ]
  },
  {
   "cell_type": "code",
   "execution_count": 56,
   "metadata": {},
   "outputs": [
    {
     "data": {
      "image/png": "[encoded data removed]",
      "text/plain": [
       "<Figure size 432x288 with 1 Axes>"
      ]
     },
     "metadata": {
      "needs_background": "light"
     },
     "output_type": "display_data"
    }
   ],
   "source": [
    "x = [int(x.replace('recon_attack_', '')) for x in log['attacks']]\n",
    "y = [v['reconstruction_accuracy_single'] for v in values.values()]\n",
    "plt.xticks(range(len(x)), x)\n",
    "plt.ylim(0.4, 0.8)\n",
    "plt.plot(range(len(x)), y, marker='o')\n",
    "plt.xlabel('No. of Repetitions of Reconstructions')\n",
    "plt.ylabel('Single MI Reconstruction Accuracy')\n",
    "plt.title('Reconstruction Attack on mnist_vae3')\n",
    "# plt.show()\n",
    "plt.savefig('mnist_vae3_recon_attack_single_mi')"
   ]
  },
  {
   "cell_type": "code",
   "execution_count": 57,
   "metadata": {},
   "outputs": [
    {
     "data": {
      "image/png": "[encoded data removed]",
      "text/plain": [
       "<Figure size 432x288 with 1 Axes>"
      ]
     },
     "metadata": {
      "needs_background": "light"
     },
     "output_type": "display_data"
    }
   ],
   "source": [
    "x = [int(x.replace('recon_attack_', '')) for x in log['attacks']]\n",
    "y = [v['reconstruction_accuracy_set'] for v in values.values()]\n",
    "plt.xticks(range(len(x)), x)\n",
    "plt.ylim(0, 1.1)\n",
    "plt.plot(range(len(x)), y, marker='o')\n",
    "plt.xlabel('No. of Repetitions of Reconstructions')\n",
    "plt.ylabel('Set MI Reconstruction Accuracy')\n",
    "plt.title('Reconstruction Attack on mnist_vae3')\n",
    "# plt.show()\n",
    "plt.savefig('mnist_vae3_recon_attack_set_mi')"
   ]
  },
  {
   "cell_type": "markdown",
   "metadata": {},
   "source": [
    "## Compare multiple experiments"
   ]
  },
  {
   "cell_type": "code",
   "execution_count": 106,
   "metadata": {},
   "outputs": [
    {
     "name": "stdout",
     "output_type": "stream",
     "text": [
      "Loaded experiment log with id 9382\n",
      "Performed attacks: ['pca_mc_attack_1000', 'pca_mc_attack_10000', 'pca_mc_attack_100000', 'pca_mc_attack_1000000']\n",
      "Repetitions: 10\n"
     ]
    }
   ],
   "source": [
    "experiment_ids = [9382]\n",
    "logs = list()\n",
    "\n",
    "values = dict()\n",
    "\n",
    "for eid in experiment_ids:\n",
    "\n",
    "    # Import results\n",
    "    with open('experiments/experiment_' + str(eid) + '.json') as f:\n",
    "        log = json.loads(f.read())\n",
    "    #logs.append(log)\n",
    "    \n",
    "    print('Loaded experiment log with id ' + str(eid))\n",
    "    print('Performed attacks: {0}'.format(log['attacks']))\n",
    "    print('Repetitions: {0}'.format(len(log[log['attacks'][0]]['results'])))\n",
    "    \n",
    "    attack = list(log.keys())[-1] # does this always work?\n",
    "    \n",
    "    results = log[attack]['results']\n",
    "    config_name = log[attack]['base_config']\n",
    "    \n",
    "    with open('configs/' + str(config_name) + '.json') as f:\n",
    "        attack_config = json.loads(f.read())\n",
    "    with open('configs/' + str(attack_config['model_config']) + '.json') as f:\n",
    "        model_config = json.loads(f.read())\n",
    "    \n",
    "    model_type = model_config['type']\n",
    "    base_attack_name = attack_config['attack_type']\n",
    "    \n",
    "    if base_attack_name not in values.keys():\n",
    "        values[base_attack_name] = dict()\n",
    "    \n",
    "    if 'mc_attack' in log[attack]['attack_type']:\n",
    "        \n",
    "        #Only use median heuristic\n",
    "        heuristic = 'median_perc'\n",
    "            \n",
    "        values[base_attack_name][model_type] = dict()\n",
    "        values[base_attack_name][model_type]['single'] = dict()\n",
    "        values[base_attack_name][model_type]['set'] = dict()\n",
    "\n",
    "        # Single MI Accuracy\n",
    "        single_mi_acc = calc_mc_accuracy(heuristic, '50_perc_mc_attack_log', results)\n",
    "        values[base_attack_name][model_type]['single']['mean'] = single_mi_acc\n",
    "        values[base_attack_name][model_type]['single']['std'] = np.std([x[heuristic]['50_perc_mc_attack_log'] for x in results])\n",
    "        # print(heuristic, single_mi_acc)\n",
    "\n",
    "        # Set MI Accuracy\n",
    "        set_mi_acc = calc_mc_set_accuracy(heuristic, '50_perc_mc_attack_log', results)\n",
    "        values[base_attack_name][model_type]['set']['mean'] = set_mi_acc\n",
    "        accuracies = np.array([x[heuristic]['50_perc_mc_attack_log'] for x in results])\n",
    "        advantages = calc_advantage(accuracies)\n",
    "        probabilities = np.array(list(map(calc_probability, advantages)))\n",
    "        values[base_attack_name][model_type]['set']['std'] = np.std(probabilities)\n",
    "        # print(set_mi_acc)\n",
    "    \n",
    "    else:\n",
    "        # reconstruction attack\n",
    "        pass\n",
    "    "
   ]
  },
  {
   "cell_type": "code",
   "execution_count": 105,
   "metadata": {},
   "outputs": [],
   "source": [
    "def calc_probability(advantage):\n",
    "    if advantage > 0:\n",
    "        prob = 1\n",
    "    elif advantage == 0:\n",
    "        prob = 0.5\n",
    "    elif advantage < 0:\n",
    "        prob = 0\n",
    "    return prob\n",
    "\n",
    "def calc_advantage(accuracies):\n",
    "    advantages = (accuracies - 0.5) * 2\n",
    "    return advantages"
   ]
  },
  {
   "cell_type": "code",
   "execution_count": 107,
   "metadata": {},
   "outputs": [
    {
     "data": {
      "text/plain": [
       "{'pca_mc_attack': {'GAN': {'single': {'mean': 0.49800000000000005,\n",
       "    'std': 0.041182520563948014},\n",
       "   'set': {'mean': 0.55, 'std': 0.4716990566028302}}}}"
      ]
     },
     "execution_count": 107,
     "metadata": {},
     "output_type": "execute_result"
    }
   ],
   "source": [
    "values"
   ]
  },
  {
   "cell_type": "code",
   "execution_count": null,
   "metadata": {},
   "outputs": [],
   "source": [
    "import numpy as np\n",
    "import matplotlib.pyplot as plt\n",
    "\n",
    "N = 5\n",
    "menMeans = (20, 35, 30, 35, 27)\n",
    "menStd =   (2, 3, 4, 1, 2)\n",
    "\n",
    "ind = np.arange(N)  # the x locations for the groups\n",
    "width = 0.35       # the width of the bars\n",
    "\n",
    "fig = plt.figure()\n",
    "ax = fig.add_subplot(111)\n",
    "rects1 = ax.bar(ind, menMeans, width, color='royalblue', yerr=menStd)\n",
    "\n",
    "womenMeans = (25, 32, 34, 20, 25)\n",
    "womenStd =   (3, 5, 2, 3, 3)\n",
    "rects2 = ax.bar(ind+width, womenMeans, width, color='seagreen', yerr=womenStd)\n",
    "\n",
    "# add some\n",
    "ax.set_ylabel('Scores')\n",
    "ax.set_title('Scores by group and gender')\n",
    "ax.set_xticks(ind + width / 2)\n",
    "ax.set_xticklabels( ('G1', 'G2', 'G3', 'G4', 'G5') )\n",
    "\n",
    "ax.legend( (rects1[0], rects2[0]), ('Men', 'Women') )\n"
   ]
  },
  {
   "cell_type": "code",
   "execution_count": 3,
   "metadata": {},
   "outputs": [
    {
     "data": {
      "text/plain": [
       "{'id': 1270,\n",
       " 'attacks': ['pca_mc_attack'],\n",
       " 'pca_mc_attack_1000': {'attack_type': 'pca_mc_attack',\n",
       "  'results': [{'1': {'50_perc_mc_attack_log': 0.52,\n",
       "     '50_perc_mc_attack_eps': 0.52,\n",
       "     '50_perc_mc_attack_frac': 0.54,\n",
       "     'successful_set_attack_log': True,\n",
       "     'successful_set_attack_eps': True,\n",
       "     'successful_set_attack_frac': True,\n",
       "     'set_attack_log_vals': [0.11352838501691924, 0.11328629051553953],\n",
       "     'set_attack_eps_vals': [1.0018, 0.9982000000000001],\n",
       "     'set_attack_frac_vals': [1.1280467083215517, 1.1241757500702776]},\n",
       "    '0.1': {'50_perc_mc_attack_log': 0.49,\n",
       "     '50_perc_mc_attack_eps': 0.51,\n",
       "     '50_perc_mc_attack_frac': 0.49,\n",
       "     'successful_set_attack_log': True,\n",
       "     'successful_set_attack_eps': False,\n",
       "     'successful_set_attack_frac': True,\n",
       "     'set_attack_log_vals': [0.007143509850873135, 0.007119893457452385],\n",
       "     'set_attack_eps_vals': [0.10000000000000003, 0.10000000000000003],\n",
       "     'set_attack_frac_vals': [0.10749184922373442, 0.107466227011662]},\n",
       "    '0.01': {'50_perc_mc_attack_log': 0.52,\n",
       "     '50_perc_mc_attack_eps': 0.51,\n",
       "     '50_perc_mc_attack_frac': 0.52,\n",
       "     'successful_set_attack_log': True,\n",
       "     'successful_set_attack_eps': False,\n",
       "     'successful_set_attack_frac': True,\n",
       "     'set_attack_log_vals': [0.0003510071865144189, 0.00034652785786472214],\n",
       "     'set_attack_eps_vals': [0.01, 0.01],\n",
       "     'set_attack_frac_vals': [0.010357264863064285, 0.01035262297346588]},\n",
       "    'median_perc': {'50_perc_mc_attack_log': 0.52,\n",
       "     '50_perc_mc_attack_eps': 0.52,\n",
       "     '50_perc_mc_attack_frac': 0.52,\n",
       "     'successful_set_attack_log': True,\n",
       "     'successful_set_attack_eps': True,\n",
       "     'successful_set_attack_frac': True,\n",
       "     'set_attack_log_vals': [1.0644552825301907e-05, 7.811569845665582e-06],\n",
       "     'set_attack_eps_vals': [0.0052000000000000015, 0.004800000000000001],\n",
       "     'set_attack_frac_vals': [0.005210660964458833, 0.00480782073344274]}}]},\n",
       " 'pca_mc_attack_10000': {'attack_type': 'pca_mc_attack',\n",
       "  'results': [{'1': {'50_perc_mc_attack_log': 0.49,\n",
       "     '50_perc_mc_attack_eps': 0.54,\n",
       "     '50_perc_mc_attack_frac': 0.55,\n",
       "     'successful_set_attack_log': True,\n",
       "     'successful_set_attack_eps': True,\n",
       "     'successful_set_attack_frac': True,\n",
       "     'set_attack_log_vals': [0.13114803413176718, 0.1309231796455954],\n",
       "     'set_attack_eps_vals': [1.00156, 0.99844],\n",
       "     'set_attack_frac_vals': [1.1495140601742946, 1.146138474971862]},\n",
       "    '0.1': {'50_perc_mc_attack_log': 0.52,\n",
       "     '50_perc_mc_attack_eps': 0.53,\n",
       "     '50_perc_mc_attack_frac': 0.53,\n",
       "     'successful_set_attack_log': True,\n",
       "     'successful_set_attack_eps': True,\n",
       "     'successful_set_attack_frac': True,\n",
       "     'set_attack_log_vals': [0.005577018360058325, 0.005553212684088307],\n",
       "     'set_attack_eps_vals': [0.10021999999999999, 0.09978000000000001],\n",
       "     'set_attack_frac_vals': [0.10604776160205423, 0.10558260490728069]},\n",
       "    '0.01': {'50_perc_mc_attack_log': 0.5,\n",
       "     '50_perc_mc_attack_eps': 0.5,\n",
       "     '50_perc_mc_attack_frac': 0.5,\n",
       "     'successful_set_attack_log': True,\n",
       "     'successful_set_attack_eps': True,\n",
       "     'successful_set_attack_frac': True,\n",
       "     'set_attack_log_vals': [0.0002030017005243138, 0.00020076606640459413],\n",
       "     'set_attack_eps_vals': [0.01006, 0.00994],\n",
       "     'set_attack_frac_vals': [0.010266536293076339, 0.010144251071015065]},\n",
       "    'median_perc': {'50_perc_mc_attack_log': 0.52,\n",
       "     '50_perc_mc_attack_eps': 0.52,\n",
       "     '50_perc_mc_attack_frac': 0.52,\n",
       "     'successful_set_attack_log': True,\n",
       "     'successful_set_attack_eps': True,\n",
       "     'successful_set_attack_frac': True,\n",
       "     'set_attack_log_vals': [1.081627207619541e-06, 8.708115997043038e-07],\n",
       "     'set_attack_eps_vals': [0.0005200000000000001, 0.0004800000000000001],\n",
       "     'set_attack_frac_vals': [0.0005210833633651186,\n",
       "      0.00048087194710070283]}}]},\n",
       " 'pca_mc_attack_100000': {'attack_type': 'pca_mc_attack',\n",
       "  'results': [{'1': {'50_perc_mc_attack_log': 0.5,\n",
       "     '50_perc_mc_attack_eps': 0.54,\n",
       "     '50_perc_mc_attack_frac': 0.54,\n",
       "     'successful_set_attack_log': True,\n",
       "     'successful_set_attack_eps': True,\n",
       "     'successful_set_attack_frac': True,\n",
       "     'set_attack_log_vals': [0.1300023266833848, 0.12977557972029555],\n",
       "     'set_attack_eps_vals': [1.001227, 0.9987729999999999],\n",
       "     'set_attack_frac_vals': [1.147545815577, 1.1448330005288188]},\n",
       "    '0.1': {'50_perc_mc_attack_log': 0.51,\n",
       "     '50_perc_mc_attack_eps': 0.54,\n",
       "     '50_perc_mc_attack_frac': 0.53,\n",
       "     'successful_set_attack_log': True,\n",
       "     'successful_set_attack_eps': True,\n",
       "     'successful_set_attack_frac': True,\n",
       "     'set_attack_log_vals': [0.005787678830255301, 0.005763432194453321],\n",
       "     'set_attack_eps_vals': [0.100143, 0.099857],\n",
       "     'set_attack_frac_vals': [0.10621581456119333, 0.10590404481433827]},\n",
       "    '0.01': {'50_perc_mc_attack_log': 0.5,\n",
       "     '50_perc_mc_attack_eps': 0.48,\n",
       "     '50_perc_mc_attack_frac': 0.48,\n",
       "     'successful_set_attack_log': True,\n",
       "     'successful_set_attack_eps': True,\n",
       "     'successful_set_attack_frac': True,\n",
       "     'set_attack_log_vals': [0.00026589555636952867, 0.0002631743698429484],\n",
       "     'set_attack_eps_vals': [0.010032000000000001, 0.009968],\n",
       "     'set_attack_frac_vals': [0.010304181532408358, 0.010237384431233811]},\n",
       "    'median_perc': {'50_perc_mc_attack_log': 0.48,\n",
       "     '50_perc_mc_attack_eps': 0.48,\n",
       "     '50_perc_mc_attack_frac': 0.48,\n",
       "     'successful_set_attack_log': True,\n",
       "     'successful_set_attack_eps': False,\n",
       "     'successful_set_attack_frac': False,\n",
       "     'set_attack_log_vals': [1.116720284745999e-07, 8.746963765537193e-08],\n",
       "     'set_attack_eps_vals': [4.799999999999999e-05, 5.199999999999999e-05],\n",
       "     'set_attack_frac_vals': [4.8111860200378844e-05,\n",
       "      5.2087583621971386e-05]}}]},\n",
       " 'pca_mc_attack_1000000': {'attack_type': 'pca_mc_attack',\n",
       "  'results': [{'1': {'50_perc_mc_attack_log': 0.5,\n",
       "     '50_perc_mc_attack_eps': 0.54,\n",
       "     '50_perc_mc_attack_frac': 0.54,\n",
       "     'successful_set_attack_log': True,\n",
       "     'successful_set_attack_eps': True,\n",
       "     'successful_set_attack_frac': True,\n",
       "     'set_attack_log_vals': [0.1305854023217908, 0.1303617640305691],\n",
       "     'set_attack_eps_vals': [1.0012031, 0.9987968999999999],\n",
       "     'set_attack_frac_vals': [1.1483084217960422, 1.1456468729050686]},\n",
       "    '0.1': {'50_perc_mc_attack_log': 0.51,\n",
       "     '50_perc_mc_attack_eps': 0.55,\n",
       "     '50_perc_mc_attack_frac': 0.54,\n",
       "     'successful_set_attack_log': True,\n",
       "     'successful_set_attack_eps': True,\n",
       "     'successful_set_attack_frac': True,\n",
       "     'set_attack_log_vals': [0.005805107559290715, 0.005781065451351226],\n",
       "     'set_attack_eps_vals': [0.10016390000000001, 0.0998361],\n",
       "     'set_attack_frac_vals': [0.10625216758649965, 0.10589882767028522]},\n",
       "    '0.01': {'50_perc_mc_attack_log': 0.5,\n",
       "     '50_perc_mc_attack_eps': 0.5,\n",
       "     '50_perc_mc_attack_frac': 0.5,\n",
       "     'successful_set_attack_log': True,\n",
       "     'successful_set_attack_eps': True,\n",
       "     'successful_set_attack_frac': True,\n",
       "     'set_attack_log_vals': [0.00027645053327235723, 0.00027375707425381936],\n",
       "     'set_attack_eps_vals': [0.0100355, 0.0099645],\n",
       "     'set_attack_frac_vals': [0.010318310249278052, 0.01024453791585194]},\n",
       "    'median_perc': {'50_perc_mc_attack_log': 0.51,\n",
       "     '50_perc_mc_attack_eps': 0.51,\n",
       "     '50_perc_mc_attack_frac': 0.51,\n",
       "     'successful_set_attack_log': True,\n",
       "     'successful_set_attack_eps': True,\n",
       "     'successful_set_attack_frac': True,\n",
       "     'set_attack_log_vals': [1.1593378277697396e-08, 9.279790474537345e-09],\n",
       "     'set_attack_eps_vals': [5.399999999999999e-06, 4.9999999999999996e-06],\n",
       "     'set_attack_frac_vals': [5.411613061290288e-06, 5.00929251777181e-06]}}]}}"
      ]
     },
     "execution_count": 3,
     "metadata": {},
     "output_type": "execute_result"
    }
   ],
   "source": [
    "log"
   ]
  }
 ],
 "metadata": {
  "kernelspec": {
   "display_name": "Python 3",
   "language": "python",
   "name": "python3"
  },
  "language_info": {
   "codemirror_mode": {
    "name": "ipython",
    "version": 3
   },
   "file_extension": ".py",
   "mimetype": "text/x-python",
   "name": "python",
   "nbconvert_exporter": "python",
   "pygments_lexer": "ipython3",
   "version": "3.7.6"
  }
 },
 "nbformat": 4,
 "nbformat_minor": 4
}
